{
 "cells": [
  {
   "cell_type": "code",
   "execution_count": 1,
   "id": "067c4ba2-c179-4d78-8a47-5773b767d765",
   "metadata": {},
   "outputs": [],
   "source": [
    "def __add__(self, other):\n",
    "    try:\n",
    "        pairs = itertools.zip_longest(self, other, fillvalue=0.0)\n",
    "        return Vector(a + b for a , b in pairs)\n",
    "\n",
    "    except TypeError:\n",
    "        return NotImplemented"
   ]
  },
  {
   "cell_type": "code",
   "execution_count": 2,
   "id": "fb74a52d-8998-4a60-ac67-002f0cf90f89",
   "metadata": {},
   "outputs": [],
   "source": [
    "def __radd__(self, other):\n",
    "    return self + other"
   ]
  },
  {
   "cell_type": "code",
   "execution_count": null,
   "id": "9540e0fe-9e54-4522-beb4-fb80f832bffb",
   "metadata": {},
   "outputs": [],
   "source": []
  }
 ],
 "metadata": {
  "kernelspec": {
   "display_name": "Python 3 (ipykernel)",
   "language": "python",
   "name": "python3"
  },
  "language_info": {
   "codemirror_mode": {
    "name": "ipython",
    "version": 3
   },
   "file_extension": ".py",
   "mimetype": "text/x-python",
   "name": "python",
   "nbconvert_exporter": "python",
   "pygments_lexer": "ipython3",
   "version": "3.12.3"
  }
 },
 "nbformat": 4,
 "nbformat_minor": 5
}
